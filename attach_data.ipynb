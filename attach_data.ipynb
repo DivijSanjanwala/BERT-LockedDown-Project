{
  "nbformat": 4,
  "nbformat_minor": 0,
  "metadata": {
    "colab": {
      "name": "attach_data.ipynb",
      "provenance": [],
      "collapsed_sections": []
    },
    "kernelspec": {
      "name": "python3",
      "display_name": "Python 3"
    },
    "language_info": {
      "name": "python"
    }
  },
  "cells": [
    {
      "cell_type": "code",
      "metadata": {
        "id": "sYws5fuYPL_Y"
      },
      "source": [
        "import pandas as pd\n",
        "import matplotlib.pyplot as plot\n",
        "import numpy as np"
      ],
      "execution_count": null,
      "outputs": []
    },
    {
      "cell_type": "code",
      "metadata": {
        "id": "oVeU1zQGfkSu",
        "colab": {
          "base_uri": "https://localhost:8080/"
        },
        "outputId": "ffbd87b6-884b-4228-e1b3-0507d72fbfa9"
      },
      "source": [
        "from google.colab import drive\n",
        "drive.mount('/content/drive')"
      ],
      "execution_count": null,
      "outputs": [
        {
          "output_type": "stream",
          "text": [
            "Mounted at /content/drive\n"
          ],
          "name": "stdout"
        }
      ]
    },
    {
      "cell_type": "code",
      "metadata": {
        "id": "p3yFGQNDPiiX",
        "colab": {
          "base_uri": "https://localhost:8080/"
        },
        "outputId": "4af80766-7739-4876-8a60-770582457d41"
      },
      "source": [
        "df = pd.read_csv('/content/drive/MyDrive/Colab Notebooks/all_data.csv')"
      ],
      "execution_count": null,
      "outputs": [
        {
          "output_type": "stream",
          "text": [
            "/usr/local/lib/python3.7/dist-packages/IPython/core/interactiveshell.py:2718: DtypeWarning: Columns (12,13,15,17,19,21,27,28,32,33,34,35,36,37,38,39,40,41,42,43,44,45,46,47,89,90,91,100,101,102,104,105,107,108,109,110,112,113,114,115,116,117,118,119,120) have mixed types.Specify dtype option on import or set low_memory=False.\n",
            "  interactivity=interactivity, compiler=compiler, result=result)\n"
          ],
          "name": "stderr"
        }
      ]
    },
    {
      "cell_type": "code",
      "metadata": {
        "id": "F-KcZ3x2BNEk",
        "colab": {
          "base_uri": "https://localhost:8080/"
        },
        "outputId": "34600f8d-2675-4c8b-e3cb-b6eb645bd099"
      },
      "source": [
        "# Code for Vaibhav\n",
        "df = pd.read_csv('/content/drive/MyDrive/Colab Notebooks/all_data.csv')"
      ],
      "execution_count": null,
      "outputs": [
        {
          "output_type": "stream",
          "text": [
            "/usr/local/lib/python3.7/dist-packages/IPython/core/interactiveshell.py:2718: DtypeWarning: Columns (12,13,15,17,19,21,27,28,32,33,34,35,36,37,38,39,40,41,42,43,44,45,46,47,89,90,91,100,101,102,104,105,107,108,109,110,112,113,114,115,116,117,118,119,120) have mixed types.Specify dtype option on import or set low_memory=False.\n",
            "  interactivity=interactivity, compiler=compiler, result=result)\n"
          ],
          "name": "stderr"
        }
      ]
    },
    {
      "cell_type": "code",
      "metadata": {
        "id": "KmQoDY40PrXF"
      },
      "source": [
        "lang = \"german\"\n",
        "df_translated = pd.read_csv(f\"/content/drive/MyDrive/Colab Notebooks/{lang}_translate.csv\")"
      ],
      "execution_count": null,
      "outputs": []
    },
    {
      "cell_type": "code",
      "metadata": {
        "id": "PqBb9MUkUwXV",
        "colab": {
          "base_uri": "https://localhost:8080/",
          "height": 174
        },
        "outputId": "740b9563-96f6-4872-918d-eeed4d6a1cbb"
      },
      "source": [
        "student_plot[\"ID\"].plot.bar(title = f\"Student Sentiment in {lang}\")"
      ],
      "execution_count": null,
      "outputs": [
        {
          "output_type": "error",
          "ename": "NameError",
          "evalue": "ignored",
          "traceback": [
            "\u001b[0;31m---------------------------------------------------------------------------\u001b[0m",
            "\u001b[0;31mNameError\u001b[0m                                 Traceback (most recent call last)",
            "\u001b[0;32m<ipython-input-12-d02e0f019fc8>\u001b[0m in \u001b[0;36m<module>\u001b[0;34m()\u001b[0m\n\u001b[0;32m----> 1\u001b[0;31m \u001b[0mstudent_plot\u001b[0m\u001b[0;34m[\u001b[0m\u001b[0;34m\"ID\"\u001b[0m\u001b[0;34m]\u001b[0m\u001b[0;34m.\u001b[0m\u001b[0mplot\u001b[0m\u001b[0;34m.\u001b[0m\u001b[0mbar\u001b[0m\u001b[0;34m(\u001b[0m\u001b[0mtitle\u001b[0m \u001b[0;34m=\u001b[0m \u001b[0;34mf\"Student Sentiment in {lang}\"\u001b[0m\u001b[0;34m)\u001b[0m\u001b[0;34m\u001b[0m\u001b[0;34m\u001b[0m\u001b[0m\n\u001b[0m",
            "\u001b[0;31mNameError\u001b[0m: name 'student_plot' is not defined"
          ]
        }
      ]
    },
    {
      "cell_type": "code",
      "metadata": {
        "id": "TCiq2cyfXHJZ",
        "colab": {
          "base_uri": "https://localhost:8080/",
          "height": 174
        },
        "outputId": "0f4c32e5-ac63-4515-8ec4-b1fed2202e05"
      },
      "source": [
        "staff_plot[\"ID\"].plot.bar(title = f\"Staff Sentiment in {lang} \")"
      ],
      "execution_count": null,
      "outputs": [
        {
          "output_type": "error",
          "ename": "NameError",
          "evalue": "ignored",
          "traceback": [
            "\u001b[0;31m---------------------------------------------------------------------------\u001b[0m",
            "\u001b[0;31mNameError\u001b[0m                                 Traceback (most recent call last)",
            "\u001b[0;32m<ipython-input-13-e97196a9d464>\u001b[0m in \u001b[0;36m<module>\u001b[0;34m()\u001b[0m\n\u001b[0;32m----> 1\u001b[0;31m \u001b[0mstaff_plot\u001b[0m\u001b[0;34m[\u001b[0m\u001b[0;34m\"ID\"\u001b[0m\u001b[0;34m]\u001b[0m\u001b[0;34m.\u001b[0m\u001b[0mplot\u001b[0m\u001b[0;34m.\u001b[0m\u001b[0mbar\u001b[0m\u001b[0;34m(\u001b[0m\u001b[0mtitle\u001b[0m \u001b[0;34m=\u001b[0m \u001b[0;34mf\"Staff Sentiment in {lang} \"\u001b[0m\u001b[0;34m)\u001b[0m\u001b[0;34m\u001b[0m\u001b[0;34m\u001b[0m\u001b[0m\n\u001b[0m",
            "\u001b[0;31mNameError\u001b[0m: name 'staff_plot' is not defined"
          ]
        }
      ]
    },
    {
      "cell_type": "markdown",
      "metadata": {
        "id": "EnkSnqkvEFek"
      },
      "source": [
        ""
      ]
    },
    {
      "cell_type": "code",
      "metadata": {
        "id": "kWbbNdKvWIgE",
        "colab": {
          "base_uri": "https://localhost:8080/",
          "height": 249
        },
        "outputId": "f6a78a12-b293-4789-d35e-09c8e9b349de"
      },
      "source": [
        "#Using matplotlib\n",
        "data = student_plot[\"ID\"]\n",
        "pie, ax = plot.subplots(figsize=[10,6])\n",
        "labels = data.keys()\n",
        "plot.pie(x=data, autopct=\"%.1f%%\", labels=labels, pctdistance=0.5)\n",
        "plot.title(f\"Staff Sentiment in {lang} \", fontsize=14);"
      ],
      "execution_count": null,
      "outputs": [
        {
          "output_type": "error",
          "ename": "NameError",
          "evalue": "ignored",
          "traceback": [
            "\u001b[0;31m---------------------------------------------------------------------------\u001b[0m",
            "\u001b[0;31mNameError\u001b[0m                                 Traceback (most recent call last)",
            "\u001b[0;32m<ipython-input-10-e0a95dfa2432>\u001b[0m in \u001b[0;36m<module>\u001b[0;34m()\u001b[0m\n\u001b[1;32m      1\u001b[0m \u001b[0;31m#Using matplotlib\u001b[0m\u001b[0;34m\u001b[0m\u001b[0;34m\u001b[0m\u001b[0;34m\u001b[0m\u001b[0m\n\u001b[0;32m----> 2\u001b[0;31m \u001b[0mdata\u001b[0m \u001b[0;34m=\u001b[0m \u001b[0mstudent_plot\u001b[0m\u001b[0;34m[\u001b[0m\u001b[0;34m\"ID\"\u001b[0m\u001b[0;34m]\u001b[0m\u001b[0;34m\u001b[0m\u001b[0;34m\u001b[0m\u001b[0m\n\u001b[0m\u001b[1;32m      3\u001b[0m \u001b[0mpie\u001b[0m\u001b[0;34m,\u001b[0m \u001b[0max\u001b[0m \u001b[0;34m=\u001b[0m \u001b[0mplot\u001b[0m\u001b[0;34m.\u001b[0m\u001b[0msubplots\u001b[0m\u001b[0;34m(\u001b[0m\u001b[0mfigsize\u001b[0m\u001b[0;34m=\u001b[0m\u001b[0;34m[\u001b[0m\u001b[0;36m10\u001b[0m\u001b[0;34m,\u001b[0m\u001b[0;36m6\u001b[0m\u001b[0;34m]\u001b[0m\u001b[0;34m)\u001b[0m\u001b[0;34m\u001b[0m\u001b[0;34m\u001b[0m\u001b[0m\n\u001b[1;32m      4\u001b[0m \u001b[0mlabels\u001b[0m \u001b[0;34m=\u001b[0m \u001b[0mdata\u001b[0m\u001b[0;34m.\u001b[0m\u001b[0mkeys\u001b[0m\u001b[0;34m(\u001b[0m\u001b[0;34m)\u001b[0m\u001b[0;34m\u001b[0m\u001b[0;34m\u001b[0m\u001b[0m\n\u001b[1;32m      5\u001b[0m \u001b[0mplot\u001b[0m\u001b[0;34m.\u001b[0m\u001b[0mpie\u001b[0m\u001b[0;34m(\u001b[0m\u001b[0mx\u001b[0m\u001b[0;34m=\u001b[0m\u001b[0mdata\u001b[0m\u001b[0;34m,\u001b[0m \u001b[0mautopct\u001b[0m\u001b[0;34m=\u001b[0m\u001b[0;34m\"%.1f%%\"\u001b[0m\u001b[0;34m,\u001b[0m \u001b[0mlabels\u001b[0m\u001b[0;34m=\u001b[0m\u001b[0mlabels\u001b[0m\u001b[0;34m,\u001b[0m \u001b[0mpctdistance\u001b[0m\u001b[0;34m=\u001b[0m\u001b[0;36m0.5\u001b[0m\u001b[0;34m)\u001b[0m\u001b[0;34m\u001b[0m\u001b[0;34m\u001b[0m\u001b[0m\n",
            "\u001b[0;31mNameError\u001b[0m: name 'student_plot' is not defined"
          ]
        }
      ]
    },
    {
      "cell_type": "code",
      "metadata": {
        "id": "Z5eKnvBCjpZu"
      },
      "source": [
        "df_translated_czech = pd.read_csv(f\"/content/drive/MyDrive/Colab Notebooks/czech_prediction.csv\")\n",
        "df_translated_german = pd.read_csv(f\"/content/drive/MyDrive/Colab Notebooks/german_prediction.csv\")\n",
        "df_translated_korean = pd.read_csv(f\"/content/drive/MyDrive/Colab Notebooks/korean_prediction.csv\")\n",
        "df_translated_russian = pd.read_csv(f\"/content/drive/MyDrive/Colab Notebooks/russian_prediction.csv\")"
      ],
      "execution_count": null,
      "outputs": []
    },
    {
      "cell_type": "code",
      "metadata": {
        "id": "HNBjtMHjldoY"
      },
      "source": [
        "def classify(input_val): \n",
        "  if input_val == \"tensor([0], device='cuda:0')\":\n",
        "    return \"Negative\"\n",
        "  else: \n",
        "    return \"Positive\"\n",
        "\n",
        "df_translated_czech[\"sentiment\"] = df_translated_czech[\"prediction\"].apply(classify)\n",
        "df_translated_german[\"sentiment\"] = df_translated_german[\"prediction\"].apply(classify)\n",
        "df_translated_korean[\"sentiment\"] = df_translated_korean[\"prediction\"].apply(classify)\n",
        "df_translated_russian[\"sentiment\"] = df_translated_russian[\"prediction\"].apply(classify)\n",
        "\n",
        "\n",
        "df_all_czech = df.merge(df_translated_czech, on=\"ID\")\n",
        "df_all_german = df.merge(df_translated_german, on=\"ID\")\n",
        "df_all_korean = df.merge(df_translated_korean, on=\"ID\")\n",
        "df_all_russian = df.merge(df_translated_russian, on=\"ID\")\n",
        "\n",
        "positive_staff_czech = len(df_all_czech.groupby([\"sentiment\"]).get_group(\"Positive\").groupby([\"role2\"]).get_group(\"Staff at a university\"))\n",
        "negative_staff_czech = len(df_all_czech.groupby([\"sentiment\"]).get_group(\"Negative\").groupby([\"role2\"]).get_group(\"Staff at a university\"))\n",
        "positive_student_czech = len(df_all_czech.groupby([\"sentiment\"]).get_group(\"Positive\").groupby([\"role2\"]).get_group(\"Student at a university\"))\n",
        "negative_student_czech = len(df_all_czech.groupby([\"sentiment\"]).get_group(\"Negative\").groupby([\"role2\"]).get_group(\"Student at a university\"))\n",
        "\n",
        "czech_table = pd.DataFrame()\n",
        "czech_table.insert(0, \"Staff at a University (Czech)\", [negative_staff_czech, positive_staff_czech])\n",
        "czech_table.insert(1, \"Student at a University (Czech)\", [negative_student_czech, positive_student_czech])\n",
        "\n",
        "################################################################################\n",
        "positive_staff_german = len(df_all_german.groupby([\"sentiment\"]).get_group(\"Positive\").groupby([\"role2\"]).get_group(\"Staff at a university\"))\n",
        "negative_staff_german = len(df_all_german.groupby([\"sentiment\"]).get_group(\"Negative\").groupby([\"role2\"]).get_group(\"Staff at a university\"))\n",
        "positive_student_german = len(df_all_german.groupby([\"sentiment\"]).get_group(\"Positive\").groupby([\"role2\"]).get_group(\"Student at a university\"))\n",
        "negative_student_german = len(df_all_german.groupby([\"sentiment\"]).get_group(\"Negative\").groupby([\"role2\"]).get_group(\"Student at a university\"))\n",
        "\n",
        "german_table = pd.DataFrame()\n",
        "german_table.insert(0, \"Staff at a University (German)\", [negative_staff_german, positive_staff_german])\n",
        "german_table.insert(1, \"Student at a University (German)\", [negative_student_german, positive_student_german])\n",
        "\n",
        "################################################################################\n",
        "\n",
        "positive_staff_korean = len(df_all_korean.groupby([\"sentiment\"]).get_group(\"Positive\").groupby([\"role2\"]).get_group(\"Staff at a university\"))\n",
        "negative_staff_korean = len(df_all_korean.groupby([\"sentiment\"]).get_group(\"Negative\").groupby([\"role2\"]).get_group(\"Staff at a university\"))\n",
        "positive_student_korean = len(df_all_korean.groupby([\"sentiment\"]).get_group(\"Positive\").groupby([\"role2\"]).get_group(\"Student at a university\"))\n",
        "negative_student_korean= len(df_all_korean.groupby([\"sentiment\"]).get_group(\"Negative\").groupby([\"role2\"]).get_group(\"Student at a university\"))\n",
        "\n",
        "korean_table = pd.DataFrame()\n",
        "korean_table.insert(0, \"Staff at a University (Korean)\", [negative_staff_korean, positive_staff_korean])\n",
        "korean_table.insert(1, \"Student at a University (Korean)\", [negative_student_korean, positive_student_korean])\n",
        "\n",
        "################################################################################\n",
        "\n",
        "positive_staff_russian = len(df_all_russian.groupby([\"sentiment\"]).get_group(\"Positive\").groupby([\"role2\"]).get_group(\"Staff at a university\"))\n",
        "negative_staff_russian = len(df_all_russian.groupby([\"sentiment\"]).get_group(\"Negative\").groupby([\"role2\"]).get_group(\"Staff at a university\"))\n",
        "positive_student_russian = len(df_all_russian.groupby([\"sentiment\"]).get_group(\"Positive\").groupby([\"role2\"]).get_group(\"Student at a university\"))\n",
        "negative_student_russian = len(df_all_russian.groupby([\"sentiment\"]).get_group(\"Negative\").groupby([\"role2\"]).get_group(\"Student at a university\"))\n",
        "\n",
        "russian_table = pd.DataFrame()\n",
        "russian_table.insert(0, \"Staff at a University (Russian)\", [negative_staff_russian, positive_staff_russian])\n",
        "russian_table.insert(1, \"Student at a University (Russian)\", [negative_student_russian, positive_student_russian])"
      ],
      "execution_count": null,
      "outputs": []
    },
    {
      "cell_type": "code",
      "metadata": {
        "colab": {
          "base_uri": "https://localhost:8080/",
          "height": 112
        },
        "id": "kGQ-0-8MDPwq",
        "outputId": "d492484b-8b0f-481c-cf6a-5da8df72a9c0"
      },
      "source": [
        "korean_table"
      ],
      "execution_count": null,
      "outputs": [
        {
          "output_type": "execute_result",
          "data": {
            "text/html": [
              "<div>\n",
              "<style scoped>\n",
              "    .dataframe tbody tr th:only-of-type {\n",
              "        vertical-align: middle;\n",
              "    }\n",
              "\n",
              "    .dataframe tbody tr th {\n",
              "        vertical-align: top;\n",
              "    }\n",
              "\n",
              "    .dataframe thead th {\n",
              "        text-align: right;\n",
              "    }\n",
              "</style>\n",
              "<table border=\"1\" class=\"dataframe\">\n",
              "  <thead>\n",
              "    <tr style=\"text-align: right;\">\n",
              "      <th></th>\n",
              "      <th>Staff at a University (Korean)</th>\n",
              "      <th>Student at a University (Korean)</th>\n",
              "    </tr>\n",
              "  </thead>\n",
              "  <tbody>\n",
              "    <tr>\n",
              "      <th>0</th>\n",
              "      <td>7</td>\n",
              "      <td>98</td>\n",
              "    </tr>\n",
              "    <tr>\n",
              "      <th>1</th>\n",
              "      <td>11</td>\n",
              "      <td>66</td>\n",
              "    </tr>\n",
              "  </tbody>\n",
              "</table>\n",
              "</div>"
            ],
            "text/plain": [
              "   Staff at a University (Korean)  Student at a University (Korean)\n",
              "0                               7                                98\n",
              "1                              11                                66"
            ]
          },
          "metadata": {
            "tags": []
          },
          "execution_count": 30
        }
      ]
    },
    {
      "cell_type": "code",
      "metadata": {
        "id": "34X-scTtFXyJ"
      },
      "source": [
        ""
      ],
      "execution_count": null,
      "outputs": []
    }
  ]
}